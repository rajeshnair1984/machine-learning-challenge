{
 "cells": [
  {
   "cell_type": "code",
   "execution_count": 1,
   "id": "77f05f7f",
   "metadata": {},
   "outputs": [],
   "source": [
    "import pandas as pd\n",
    "import numpy as np\n",
    "import matplotlib.pyplot as plt\n",
    "from sklearn import metrics"
   ]
  },
  {
   "cell_type": "code",
   "execution_count": 2,
   "id": "72a564c9",
   "metadata": {},
   "outputs": [
    {
     "data": {
      "text/html": [
       "<div>\n",
       "<style scoped>\n",
       "    .dataframe tbody tr th:only-of-type {\n",
       "        vertical-align: middle;\n",
       "    }\n",
       "\n",
       "    .dataframe tbody tr th {\n",
       "        vertical-align: top;\n",
       "    }\n",
       "\n",
       "    .dataframe thead th {\n",
       "        text-align: right;\n",
       "    }\n",
       "</style>\n",
       "<table border=\"1\" class=\"dataframe\">\n",
       "  <thead>\n",
       "    <tr style=\"text-align: right;\">\n",
       "      <th></th>\n",
       "      <th>koi_disposition</th>\n",
       "      <th>koi_fpflag_nt</th>\n",
       "      <th>koi_fpflag_ss</th>\n",
       "      <th>koi_fpflag_co</th>\n",
       "      <th>koi_fpflag_ec</th>\n",
       "      <th>koi_period</th>\n",
       "      <th>koi_period_err1</th>\n",
       "      <th>koi_period_err2</th>\n",
       "      <th>koi_time0bk</th>\n",
       "      <th>koi_time0bk_err1</th>\n",
       "      <th>...</th>\n",
       "      <th>koi_steff_err2</th>\n",
       "      <th>koi_slogg</th>\n",
       "      <th>koi_slogg_err1</th>\n",
       "      <th>koi_slogg_err2</th>\n",
       "      <th>koi_srad</th>\n",
       "      <th>koi_srad_err1</th>\n",
       "      <th>koi_srad_err2</th>\n",
       "      <th>ra</th>\n",
       "      <th>dec</th>\n",
       "      <th>koi_kepmag</th>\n",
       "    </tr>\n",
       "  </thead>\n",
       "  <tbody>\n",
       "    <tr>\n",
       "      <th>0</th>\n",
       "      <td>CONFIRMED</td>\n",
       "      <td>0</td>\n",
       "      <td>0</td>\n",
       "      <td>0</td>\n",
       "      <td>0</td>\n",
       "      <td>54.418383</td>\n",
       "      <td>2.479000e-04</td>\n",
       "      <td>-2.479000e-04</td>\n",
       "      <td>162.513840</td>\n",
       "      <td>0.003520</td>\n",
       "      <td>...</td>\n",
       "      <td>-81</td>\n",
       "      <td>4.467</td>\n",
       "      <td>0.064</td>\n",
       "      <td>-0.096</td>\n",
       "      <td>0.927</td>\n",
       "      <td>0.105</td>\n",
       "      <td>-0.061</td>\n",
       "      <td>291.93423</td>\n",
       "      <td>48.141651</td>\n",
       "      <td>15.347</td>\n",
       "    </tr>\n",
       "    <tr>\n",
       "      <th>1</th>\n",
       "      <td>FALSE POSITIVE</td>\n",
       "      <td>0</td>\n",
       "      <td>1</td>\n",
       "      <td>0</td>\n",
       "      <td>0</td>\n",
       "      <td>19.899140</td>\n",
       "      <td>1.490000e-05</td>\n",
       "      <td>-1.490000e-05</td>\n",
       "      <td>175.850252</td>\n",
       "      <td>0.000581</td>\n",
       "      <td>...</td>\n",
       "      <td>-176</td>\n",
       "      <td>4.544</td>\n",
       "      <td>0.044</td>\n",
       "      <td>-0.176</td>\n",
       "      <td>0.868</td>\n",
       "      <td>0.233</td>\n",
       "      <td>-0.078</td>\n",
       "      <td>297.00482</td>\n",
       "      <td>48.134129</td>\n",
       "      <td>15.436</td>\n",
       "    </tr>\n",
       "    <tr>\n",
       "      <th>2</th>\n",
       "      <td>FALSE POSITIVE</td>\n",
       "      <td>0</td>\n",
       "      <td>1</td>\n",
       "      <td>0</td>\n",
       "      <td>0</td>\n",
       "      <td>1.736952</td>\n",
       "      <td>2.630000e-07</td>\n",
       "      <td>-2.630000e-07</td>\n",
       "      <td>170.307565</td>\n",
       "      <td>0.000115</td>\n",
       "      <td>...</td>\n",
       "      <td>-174</td>\n",
       "      <td>4.564</td>\n",
       "      <td>0.053</td>\n",
       "      <td>-0.168</td>\n",
       "      <td>0.791</td>\n",
       "      <td>0.201</td>\n",
       "      <td>-0.067</td>\n",
       "      <td>285.53461</td>\n",
       "      <td>48.285210</td>\n",
       "      <td>15.597</td>\n",
       "    </tr>\n",
       "    <tr>\n",
       "      <th>3</th>\n",
       "      <td>CONFIRMED</td>\n",
       "      <td>0</td>\n",
       "      <td>0</td>\n",
       "      <td>0</td>\n",
       "      <td>0</td>\n",
       "      <td>2.525592</td>\n",
       "      <td>3.760000e-06</td>\n",
       "      <td>-3.760000e-06</td>\n",
       "      <td>171.595550</td>\n",
       "      <td>0.001130</td>\n",
       "      <td>...</td>\n",
       "      <td>-211</td>\n",
       "      <td>4.438</td>\n",
       "      <td>0.070</td>\n",
       "      <td>-0.210</td>\n",
       "      <td>1.046</td>\n",
       "      <td>0.334</td>\n",
       "      <td>-0.133</td>\n",
       "      <td>288.75488</td>\n",
       "      <td>48.226200</td>\n",
       "      <td>15.509</td>\n",
       "    </tr>\n",
       "    <tr>\n",
       "      <th>4</th>\n",
       "      <td>CONFIRMED</td>\n",
       "      <td>0</td>\n",
       "      <td>0</td>\n",
       "      <td>0</td>\n",
       "      <td>0</td>\n",
       "      <td>4.134435</td>\n",
       "      <td>1.050000e-05</td>\n",
       "      <td>-1.050000e-05</td>\n",
       "      <td>172.979370</td>\n",
       "      <td>0.001900</td>\n",
       "      <td>...</td>\n",
       "      <td>-232</td>\n",
       "      <td>4.486</td>\n",
       "      <td>0.054</td>\n",
       "      <td>-0.229</td>\n",
       "      <td>0.972</td>\n",
       "      <td>0.315</td>\n",
       "      <td>-0.105</td>\n",
       "      <td>296.28613</td>\n",
       "      <td>48.224670</td>\n",
       "      <td>15.714</td>\n",
       "    </tr>\n",
       "  </tbody>\n",
       "</table>\n",
       "<p>5 rows × 41 columns</p>\n",
       "</div>"
      ],
      "text/plain": [
       "  koi_disposition  koi_fpflag_nt  koi_fpflag_ss  koi_fpflag_co  koi_fpflag_ec  \\\n",
       "0       CONFIRMED              0              0              0              0   \n",
       "1  FALSE POSITIVE              0              1              0              0   \n",
       "2  FALSE POSITIVE              0              1              0              0   \n",
       "3       CONFIRMED              0              0              0              0   \n",
       "4       CONFIRMED              0              0              0              0   \n",
       "\n",
       "   koi_period  koi_period_err1  koi_period_err2  koi_time0bk  \\\n",
       "0   54.418383     2.479000e-04    -2.479000e-04   162.513840   \n",
       "1   19.899140     1.490000e-05    -1.490000e-05   175.850252   \n",
       "2    1.736952     2.630000e-07    -2.630000e-07   170.307565   \n",
       "3    2.525592     3.760000e-06    -3.760000e-06   171.595550   \n",
       "4    4.134435     1.050000e-05    -1.050000e-05   172.979370   \n",
       "\n",
       "   koi_time0bk_err1  ...  koi_steff_err2  koi_slogg  koi_slogg_err1  \\\n",
       "0          0.003520  ...             -81      4.467           0.064   \n",
       "1          0.000581  ...            -176      4.544           0.044   \n",
       "2          0.000115  ...            -174      4.564           0.053   \n",
       "3          0.001130  ...            -211      4.438           0.070   \n",
       "4          0.001900  ...            -232      4.486           0.054   \n",
       "\n",
       "   koi_slogg_err2  koi_srad  koi_srad_err1  koi_srad_err2         ra  \\\n",
       "0          -0.096     0.927          0.105         -0.061  291.93423   \n",
       "1          -0.176     0.868          0.233         -0.078  297.00482   \n",
       "2          -0.168     0.791          0.201         -0.067  285.53461   \n",
       "3          -0.210     1.046          0.334         -0.133  288.75488   \n",
       "4          -0.229     0.972          0.315         -0.105  296.28613   \n",
       "\n",
       "         dec  koi_kepmag  \n",
       "0  48.141651      15.347  \n",
       "1  48.134129      15.436  \n",
       "2  48.285210      15.597  \n",
       "3  48.226200      15.509  \n",
       "4  48.224670      15.714  \n",
       "\n",
       "[5 rows x 41 columns]"
      ]
     },
     "execution_count": 2,
     "metadata": {},
     "output_type": "execute_result"
    }
   ],
   "source": [
    "df = pd.read_csv(\"exoplanet_data.csv\")\n",
    "# Drop the null columns where all values are null\n",
    "df = df.dropna(axis='columns', how='all') #No null columns\n",
    "# Drop the null rows\n",
    "df = df.dropna() #No missing values\n",
    "df.head()\n"
   ]
  },
  {
   "cell_type": "code",
   "execution_count": 3,
   "id": "24f75846",
   "metadata": {},
   "outputs": [
    {
     "name": "stdout",
     "output_type": "stream",
     "text": [
      "<class 'pandas.core.frame.DataFrame'>\n",
      "Int64Index: 6991 entries, 0 to 6990\n",
      "Data columns (total 41 columns):\n",
      " #   Column             Non-Null Count  Dtype  \n",
      "---  ------             --------------  -----  \n",
      " 0   koi_disposition    6991 non-null   object \n",
      " 1   koi_fpflag_nt      6991 non-null   int64  \n",
      " 2   koi_fpflag_ss      6991 non-null   int64  \n",
      " 3   koi_fpflag_co      6991 non-null   int64  \n",
      " 4   koi_fpflag_ec      6991 non-null   int64  \n",
      " 5   koi_period         6991 non-null   float64\n",
      " 6   koi_period_err1    6991 non-null   float64\n",
      " 7   koi_period_err2    6991 non-null   float64\n",
      " 8   koi_time0bk        6991 non-null   float64\n",
      " 9   koi_time0bk_err1   6991 non-null   float64\n",
      " 10  koi_time0bk_err2   6991 non-null   float64\n",
      " 11  koi_impact         6991 non-null   float64\n",
      " 12  koi_impact_err1    6991 non-null   float64\n",
      " 13  koi_impact_err2    6991 non-null   float64\n",
      " 14  koi_duration       6991 non-null   float64\n",
      " 15  koi_duration_err1  6991 non-null   float64\n",
      " 16  koi_duration_err2  6991 non-null   float64\n",
      " 17  koi_depth          6991 non-null   float64\n",
      " 18  koi_depth_err1     6991 non-null   float64\n",
      " 19  koi_depth_err2     6991 non-null   float64\n",
      " 20  koi_prad           6991 non-null   float64\n",
      " 21  koi_prad_err1      6991 non-null   float64\n",
      " 22  koi_prad_err2      6991 non-null   float64\n",
      " 23  koi_teq            6991 non-null   int64  \n",
      " 24  koi_insol          6991 non-null   float64\n",
      " 25  koi_insol_err1     6991 non-null   float64\n",
      " 26  koi_insol_err2     6991 non-null   float64\n",
      " 27  koi_model_snr      6991 non-null   float64\n",
      " 28  koi_tce_plnt_num   6991 non-null   int64  \n",
      " 29  koi_steff          6991 non-null   int64  \n",
      " 30  koi_steff_err1     6991 non-null   int64  \n",
      " 31  koi_steff_err2     6991 non-null   int64  \n",
      " 32  koi_slogg          6991 non-null   float64\n",
      " 33  koi_slogg_err1     6991 non-null   float64\n",
      " 34  koi_slogg_err2     6991 non-null   float64\n",
      " 35  koi_srad           6991 non-null   float64\n",
      " 36  koi_srad_err1      6991 non-null   float64\n",
      " 37  koi_srad_err2      6991 non-null   float64\n",
      " 38  ra                 6991 non-null   float64\n",
      " 39  dec                6991 non-null   float64\n",
      " 40  koi_kepmag         6991 non-null   float64\n",
      "dtypes: float64(31), int64(9), object(1)\n",
      "memory usage: 2.2+ MB\n"
     ]
    }
   ],
   "source": [
    "df.info()"
   ]
  },
  {
   "cell_type": "code",
   "execution_count": 4,
   "id": "8003a31b",
   "metadata": {},
   "outputs": [],
   "source": [
    "from sklearn.model_selection import train_test_split\n",
    "X = df[df.columns.difference(['koi_disposition'])]\n",
    "Y = df['koi_disposition']\n",
    "\n",
    "X_train, X_test, y_train, y_test = train_test_split(X, Y, random_state=42)"
   ]
  },
  {
   "cell_type": "markdown",
   "id": "51de6910",
   "metadata": {},
   "source": [
    "## Feature Selection\n"
   ]
  },
  {
   "cell_type": "code",
   "execution_count": 5,
   "id": "f0e2eb75",
   "metadata": {},
   "outputs": [],
   "source": [
    "from sklearn.ensemble import RandomForestClassifier\n",
    "from sklearn.model_selection import RepeatedStratifiedKFold, cross_val_score\n",
    "from sklearn.feature_selection import RFE\n",
    "from sklearn.svm import SVC\n",
    "from sklearn.pipeline import Pipeline\n",
    "from sklearn.preprocessing import MinMaxScaler\n",
    "\n",
    "num_features = [1]+list(range(5,45,5))\n",
    "scores = []\n",
    "for num_feature in num_features:\n",
    "    # create pipeline\n",
    "    scaler = MinMaxScaler()\n",
    "    rfe = RFE(estimator=RandomForestClassifier(n_estimators=100), n_features_to_select=num_feature, verbose=5)\n",
    "    model = SVC(kernel='rbf', C=100)\n",
    "    pipeline = Pipeline(steps=[('scale', scaler), ('feature_selection',rfe),('model',model)])\n",
    "    # evaluate model\n",
    "    cv = RepeatedStratifiedKFold(n_splits=5, n_repeats=3)\n",
    "    n_scores = cross_val_score(pipeline, X_train, y_train, scoring='accuracy', cv=cv, n_jobs=-1, error_score='raise')\n",
    "    # Append the scores for the \"no\" of features\n",
    "    scores.append(n_scores)"
   ]
  },
  {
   "cell_type": "code",
   "execution_count": 6,
   "id": "8975c5a1",
   "metadata": {},
   "outputs": [
    {
     "data": {
      "image/png": "[encoded data removed]",
      "text/plain": [
       "<Figure size 432x288 with 1 Axes>"
      ]
     },
     "metadata": {
      "needs_background": "light"
     },
     "output_type": "display_data"
    }
   ],
   "source": [
    "# plot model performance for comparison\n",
    "plt.boxplot(scores, labels=num_features, showmeans=True)\n",
    "plt.show()"
   ]
  },
  {
   "cell_type": "markdown",
   "id": "1fdf6286",
   "metadata": {},
   "source": [
    "#### 30 features looks like the right options as it is stable.\n",
    "#### Also, the accuracy is similar to that of all features."
   ]
  },
  {
   "cell_type": "code",
   "execution_count": 29,
   "id": "ccdedeee",
   "metadata": {},
   "outputs": [
    {
     "name": "stdout",
     "output_type": "stream",
     "text": [
      "Fitting estimator with 40 features.\n",
      "Fitting estimator with 39 features.\n",
      "Fitting estimator with 38 features.\n",
      "Fitting estimator with 37 features.\n",
      "Fitting estimator with 36 features.\n",
      "Fitting estimator with 35 features.\n",
      "Fitting estimator with 34 features.\n",
      "Fitting estimator with 33 features.\n",
      "Fitting estimator with 32 features.\n",
      "Fitting estimator with 31 features.\n"
     ]
    },
    {
     "data": {
      "text/plain": [
       "RFE(estimator=RandomForestClassifier(), n_features_to_select=30, verbose=5)"
      ]
     },
     "execution_count": 29,
     "metadata": {},
     "output_type": "execute_result"
    }
   ],
   "source": [
    "rfe = RFE(estimator=RandomForestClassifier(n_estimators=100), n_features_to_select=30, verbose=5)\n",
    "rfe.fit(X_train, y_train)"
   ]
  },
  {
   "cell_type": "code",
   "execution_count": 30,
   "id": "870c4dee",
   "metadata": {},
   "outputs": [
    {
     "data": {
      "text/plain": [
       "Index(['dec', 'koi_depth', 'koi_depth_err1', 'koi_depth_err2', 'koi_duration',\n",
       "       'koi_duration_err1', 'koi_duration_err2', 'koi_fpflag_co',\n",
       "       'koi_fpflag_ec', 'koi_fpflag_nt', 'koi_fpflag_ss', 'koi_impact',\n",
       "       'koi_insol', 'koi_insol_err1', 'koi_insol_err2', 'koi_kepmag',\n",
       "       'koi_model_snr', 'koi_period', 'koi_period_err1', 'koi_period_err2',\n",
       "       'koi_prad', 'koi_prad_err1', 'koi_prad_err2', 'koi_srad_err1',\n",
       "       'koi_steff_err1', 'koi_steff_err2', 'koi_teq', 'koi_time0bk',\n",
       "       'koi_time0bk_err1', 'koi_time0bk_err2'],\n",
       "      dtype='object')"
      ]
     },
     "execution_count": 30,
     "metadata": {},
     "output_type": "execute_result"
    }
   ],
   "source": [
    "X_train.columns[rfe.support_]"
   ]
  },
  {
   "cell_type": "code",
   "execution_count": 31,
   "id": "a3a3dcb3",
   "metadata": {},
   "outputs": [
    {
     "data": {
      "text/plain": [
       "Index(['dec', 'koi_depth', 'koi_depth_err1', 'koi_depth_err2', 'koi_duration',\n",
       "       'koi_duration_err1', 'koi_duration_err2', 'koi_fpflag_co',\n",
       "       'koi_fpflag_ec', 'koi_fpflag_nt', 'koi_fpflag_ss', 'koi_impact',\n",
       "       'koi_insol', 'koi_insol_err1', 'koi_insol_err2', 'koi_kepmag',\n",
       "       'koi_model_snr', 'koi_period', 'koi_period_err1', 'koi_period_err2',\n",
       "       'koi_prad', 'koi_prad_err1', 'koi_prad_err2', 'koi_srad_err1',\n",
       "       'koi_steff_err1', 'koi_steff_err2', 'koi_teq', 'koi_time0bk',\n",
       "       'koi_time0bk_err1', 'koi_time0bk_err2'],\n",
       "      dtype='object')"
      ]
     },
     "execution_count": 31,
     "metadata": {},
     "output_type": "execute_result"
    }
   ],
   "source": [
    "X_test.columns[rfe.support_]"
   ]
  },
  {
   "cell_type": "code",
   "execution_count": 32,
   "id": "9382ca0e",
   "metadata": {},
   "outputs": [],
   "source": [
    "#X_train.columns[rfe.support_]\n",
    "X_train = X_train[X_train.columns[rfe.support_]]\n",
    "X_test = X_test[X_test.columns[rfe.support_]]"
   ]
  },
  {
   "cell_type": "markdown",
   "id": "83c32379",
   "metadata": {},
   "source": [
    "## SVM without tuning"
   ]
  },
  {
   "cell_type": "code",
   "execution_count": 34,
   "id": "e550f7f1",
   "metadata": {},
   "outputs": [
    {
     "data": {
      "text/plain": [
       "Pipeline(steps=[('scale', MinMaxScaler()),\n",
       "                ('model', SVC(class_weight='balanced'))])"
      ]
     },
     "execution_count": 34,
     "metadata": {},
     "output_type": "execute_result"
    }
   ],
   "source": [
    "# create pipeline\n",
    "scaler = MinMaxScaler()\n",
    "model = SVC(class_weight = 'balanced')\n",
    "pipeline = Pipeline(steps=[('scale', scaler), ('model',model)])\n",
    "\n",
    "pipeline.fit(X_train, y_train)"
   ]
  },
  {
   "cell_type": "code",
   "execution_count": 35,
   "id": "ae7cad88",
   "metadata": {},
   "outputs": [
    {
     "name": "stdout",
     "output_type": "stream",
     "text": [
      "Train accuracy : 0.8359717718863247\n",
      "Test accuracy : 0.8283752860411899\n"
     ]
    }
   ],
   "source": [
    "print(f\"Train accuracy : {pipeline.score(X_train, y_train)}\")\n",
    "print(f\"Test accuracy : {pipeline.score(X_test, y_test)}\")"
   ]
  },
  {
   "cell_type": "markdown",
   "id": "9e8d2276",
   "metadata": {},
   "source": [
    "## GridSearch CV to tune SVM"
   ]
  },
  {
   "cell_type": "code",
   "execution_count": 40,
   "id": "b64755aa",
   "metadata": {},
   "outputs": [
    {
     "name": "stdout",
     "output_type": "stream",
     "text": [
      "Fitting 5 folds for each of 24 candidates, totalling 120 fits\n",
      "[CV 1/5] END model__C=1, model__gamma=scale, model__kernel=poly;, score=0.876 total time=   0.2s\n",
      "[CV 2/5] END model__C=1, model__gamma=scale, model__kernel=poly;, score=0.837 total time=   0.2s\n",
      "[CV 3/5] END model__C=1, model__gamma=scale, model__kernel=poly;, score=0.863 total time=   0.2s\n",
      "[CV 4/5] END model__C=1, model__gamma=scale, model__kernel=poly;, score=0.839 total time=   0.2s\n",
      "[CV 5/5] END model__C=1, model__gamma=scale, model__kernel=poly;, score=0.844 total time=   0.2s\n",
      "[CV 1/5] END model__C=1, model__gamma=scale, model__kernel=linear;, score=0.871 total time=   0.2s\n",
      "[CV 2/5] END model__C=1, model__gamma=scale, model__kernel=linear;, score=0.827 total time=   0.2s\n",
      "[CV 3/5] END model__C=1, model__gamma=scale, model__kernel=linear;, score=0.859 total time=   0.2s\n",
      "[CV 4/5] END model__C=1, model__gamma=scale, model__kernel=linear;, score=0.834 total time=   0.2s\n",
      "[CV 5/5] END model__C=1, model__gamma=scale, model__kernel=linear;, score=0.840 total time=   0.2s\n",
      "[CV 1/5] END model__C=1, model__gamma=scale, model__kernel=rbf;, score=0.859 total time=   0.4s\n",
      "[CV 2/5] END model__C=1, model__gamma=scale, model__kernel=rbf;, score=0.814 total time=   0.4s\n",
      "[CV 3/5] END model__C=1, model__gamma=scale, model__kernel=rbf;, score=0.857 total time=   0.4s\n",
      "[CV 4/5] END model__C=1, model__gamma=scale, model__kernel=rbf;, score=0.823 total time=   0.4s\n",
      "[CV 5/5] END model__C=1, model__gamma=scale, model__kernel=rbf;, score=0.837 total time=   0.4s\n",
      "[CV 1/5] END model__C=1, model__gamma=0.1, model__kernel=poly;, score=0.846 total time=   0.2s\n",
      "[CV 2/5] END model__C=1, model__gamma=0.1, model__kernel=poly;, score=0.826 total time=   0.2s\n",
      "[CV 3/5] END model__C=1, model__gamma=0.1, model__kernel=poly;, score=0.838 total time=   0.2s\n",
      "[CV 4/5] END model__C=1, model__gamma=0.1, model__kernel=poly;, score=0.817 total time=   0.2s\n",
      "[CV 5/5] END model__C=1, model__gamma=0.1, model__kernel=poly;, score=0.818 total time=   0.3s\n",
      "[CV 1/5] END model__C=1, model__gamma=0.1, model__kernel=linear;, score=0.871 total time=   0.2s\n",
      "[CV 2/5] END model__C=1, model__gamma=0.1, model__kernel=linear;, score=0.827 total time=   0.2s\n",
      "[CV 3/5] END model__C=1, model__gamma=0.1, model__kernel=linear;, score=0.859 total time=   0.2s\n",
      "[CV 4/5] END model__C=1, model__gamma=0.1, model__kernel=linear;, score=0.834 total time=   0.2s\n",
      "[CV 5/5] END model__C=1, model__gamma=0.1, model__kernel=linear;, score=0.840 total time=   0.2s\n",
      "[CV 1/5] END model__C=1, model__gamma=0.1, model__kernel=rbf;, score=0.847 total time=   0.4s\n",
      "[CV 2/5] END model__C=1, model__gamma=0.1, model__kernel=rbf;, score=0.825 total time=   0.4s\n",
      "[CV 3/5] END model__C=1, model__gamma=0.1, model__kernel=rbf;, score=0.840 total time=   0.4s\n",
      "[CV 4/5] END model__C=1, model__gamma=0.1, model__kernel=rbf;, score=0.821 total time=   0.4s\n",
      "[CV 5/5] END model__C=1, model__gamma=0.1, model__kernel=rbf;, score=0.823 total time=   0.4s\n",
      "[CV 1/5] END model__C=5, model__gamma=scale, model__kernel=poly;, score=0.891 total time=   0.2s\n",
      "[CV 2/5] END model__C=5, model__gamma=scale, model__kernel=poly;, score=0.857 total time=   0.2s\n",
      "[CV 3/5] END model__C=5, model__gamma=scale, model__kernel=poly;, score=0.877 total time=   0.2s\n",
      "[CV 4/5] END model__C=5, model__gamma=scale, model__kernel=poly;, score=0.848 total time=   0.2s\n",
      "[CV 5/5] END model__C=5, model__gamma=scale, model__kernel=poly;, score=0.871 total time=   0.2s\n",
      "[CV 1/5] END model__C=5, model__gamma=scale, model__kernel=linear;, score=0.891 total time=   0.2s\n",
      "[CV 2/5] END model__C=5, model__gamma=scale, model__kernel=linear;, score=0.854 total time=   0.2s\n",
      "[CV 3/5] END model__C=5, model__gamma=scale, model__kernel=linear;, score=0.872 total time=   0.2s\n",
      "[CV 4/5] END model__C=5, model__gamma=scale, model__kernel=linear;, score=0.845 total time=   0.2s\n",
      "[CV 5/5] END model__C=5, model__gamma=scale, model__kernel=linear;, score=0.871 total time=   0.2s\n",
      "[CV 1/5] END model__C=5, model__gamma=scale, model__kernel=rbf;, score=0.879 total time=   0.4s\n",
      "[CV 2/5] END model__C=5, model__gamma=scale, model__kernel=rbf;, score=0.837 total time=   0.4s\n",
      "[CV 3/5] END model__C=5, model__gamma=scale, model__kernel=rbf;, score=0.866 total time=   0.4s\n",
      "[CV 4/5] END model__C=5, model__gamma=scale, model__kernel=rbf;, score=0.845 total time=   0.3s\n",
      "[CV 5/5] END model__C=5, model__gamma=scale, model__kernel=rbf;, score=0.852 total time=   0.4s\n",
      "[CV 1/5] END model__C=5, model__gamma=0.1, model__kernel=poly;, score=0.870 total time=   0.2s\n",
      "[CV 2/5] END model__C=5, model__gamma=0.1, model__kernel=poly;, score=0.834 total time=   0.2s\n",
      "[CV 3/5] END model__C=5, model__gamma=0.1, model__kernel=poly;, score=0.865 total time=   0.2s\n",
      "[CV 4/5] END model__C=5, model__gamma=0.1, model__kernel=poly;, score=0.833 total time=   0.2s\n",
      "[CV 5/5] END model__C=5, model__gamma=0.1, model__kernel=poly;, score=0.843 total time=   0.2s\n",
      "[CV 1/5] END model__C=5, model__gamma=0.1, model__kernel=linear;, score=0.891 total time=   0.2s\n",
      "[CV 2/5] END model__C=5, model__gamma=0.1, model__kernel=linear;, score=0.854 total time=   0.2s\n",
      "[CV 3/5] END model__C=5, model__gamma=0.1, model__kernel=linear;, score=0.872 total time=   0.2s\n",
      "[CV 4/5] END model__C=5, model__gamma=0.1, model__kernel=linear;, score=0.845 total time=   0.2s\n",
      "[CV 5/5] END model__C=5, model__gamma=0.1, model__kernel=linear;, score=0.871 total time=   0.2s\n",
      "[CV 1/5] END model__C=5, model__gamma=0.1, model__kernel=rbf;, score=0.873 total time=   0.4s\n",
      "[CV 2/5] END model__C=5, model__gamma=0.1, model__kernel=rbf;, score=0.829 total time=   0.4s\n",
      "[CV 3/5] END model__C=5, model__gamma=0.1, model__kernel=rbf;, score=0.861 total time=   0.4s\n",
      "[CV 4/5] END model__C=5, model__gamma=0.1, model__kernel=rbf;, score=0.834 total time=   0.4s\n",
      "[CV 5/5] END model__C=5, model__gamma=0.1, model__kernel=rbf;, score=0.841 total time=   0.4s\n",
      "[CV 1/5] END model__C=10, model__gamma=scale, model__kernel=poly;, score=0.894 total time=   0.2s\n",
      "[CV 2/5] END model__C=10, model__gamma=scale, model__kernel=poly;, score=0.870 total time=   0.2s\n",
      "[CV 3/5] END model__C=10, model__gamma=scale, model__kernel=poly;, score=0.885 total time=   0.2s\n",
      "[CV 4/5] END model__C=10, model__gamma=scale, model__kernel=poly;, score=0.862 total time=   0.2s\n",
      "[CV 5/5] END model__C=10, model__gamma=scale, model__kernel=poly;, score=0.874 total time=   0.2s\n",
      "[CV 1/5] END model__C=10, model__gamma=scale, model__kernel=linear;, score=0.893 total time=   0.2s\n",
      "[CV 2/5] END model__C=10, model__gamma=scale, model__kernel=linear;, score=0.863 total time=   0.2s\n",
      "[CV 3/5] END model__C=10, model__gamma=scale, model__kernel=linear;, score=0.885 total time=   0.2s\n",
      "[CV 4/5] END model__C=10, model__gamma=scale, model__kernel=linear;, score=0.858 total time=   0.2s\n",
      "[CV 5/5] END model__C=10, model__gamma=scale, model__kernel=linear;, score=0.873 total time=   0.2s\n",
      "[CV 1/5] END model__C=10, model__gamma=scale, model__kernel=rbf;, score=0.887 total time=   0.4s\n",
      "[CV 2/5] END model__C=10, model__gamma=scale, model__kernel=rbf;, score=0.845 total time=   0.4s\n",
      "[CV 3/5] END model__C=10, model__gamma=scale, model__kernel=rbf;, score=0.867 total time=   0.3s\n",
      "[CV 4/5] END model__C=10, model__gamma=scale, model__kernel=rbf;, score=0.846 total time=   0.3s\n",
      "[CV 5/5] END model__C=10, model__gamma=scale, model__kernel=rbf;, score=0.868 total time=   0.4s\n",
      "[CV 1/5] END model__C=10, model__gamma=0.1, model__kernel=poly;, score=0.881 total time=   0.2s\n",
      "[CV 2/5] END model__C=10, model__gamma=0.1, model__kernel=poly;, score=0.844 total time=   0.2s\n",
      "[CV 3/5] END model__C=10, model__gamma=0.1, model__kernel=poly;, score=0.863 total time=   0.2s\n",
      "[CV 4/5] END model__C=10, model__gamma=0.1, model__kernel=poly;, score=0.844 total time=   0.2s\n",
      "[CV 5/5] END model__C=10, model__gamma=0.1, model__kernel=poly;, score=0.852 total time=   0.2s\n",
      "[CV 1/5] END model__C=10, model__gamma=0.1, model__kernel=linear;, score=0.893 total time=   0.2s\n",
      "[CV 2/5] END model__C=10, model__gamma=0.1, model__kernel=linear;, score=0.863 total time=   0.2s\n",
      "[CV 3/5] END model__C=10, model__gamma=0.1, model__kernel=linear;, score=0.885 total time=   0.2s\n",
      "[CV 4/5] END model__C=10, model__gamma=0.1, model__kernel=linear;, score=0.858 total time=   0.2s\n",
      "[CV 5/5] END model__C=10, model__gamma=0.1, model__kernel=linear;, score=0.873 total time=   0.2s\n"
     ]
    },
    {
     "name": "stdout",
     "output_type": "stream",
     "text": [
      "[CV 1/5] END model__C=10, model__gamma=0.1, model__kernel=rbf;, score=0.883 total time=   0.4s\n",
      "[CV 2/5] END model__C=10, model__gamma=0.1, model__kernel=rbf;, score=0.839 total time=   0.4s\n",
      "[CV 3/5] END model__C=10, model__gamma=0.1, model__kernel=rbf;, score=0.866 total time=   0.4s\n",
      "[CV 4/5] END model__C=10, model__gamma=0.1, model__kernel=rbf;, score=0.845 total time=   0.4s\n",
      "[CV 5/5] END model__C=10, model__gamma=0.1, model__kernel=rbf;, score=0.853 total time=   0.4s\n",
      "[CV 1/5] END model__C=100, model__gamma=scale, model__kernel=poly;, score=0.902 total time=   0.2s\n",
      "[CV 2/5] END model__C=100, model__gamma=scale, model__kernel=poly;, score=0.876 total time=   0.2s\n",
      "[CV 3/5] END model__C=100, model__gamma=scale, model__kernel=poly;, score=0.888 total time=   0.2s\n",
      "[CV 4/5] END model__C=100, model__gamma=scale, model__kernel=poly;, score=0.872 total time=   0.2s\n",
      "[CV 5/5] END model__C=100, model__gamma=scale, model__kernel=poly;, score=0.883 total time=   0.2s\n",
      "[CV 1/5] END model__C=100, model__gamma=scale, model__kernel=linear;, score=0.897 total time=   0.3s\n",
      "[CV 2/5] END model__C=100, model__gamma=scale, model__kernel=linear;, score=0.880 total time=   0.4s\n",
      "[CV 3/5] END model__C=100, model__gamma=scale, model__kernel=linear;, score=0.891 total time=   0.3s\n",
      "[CV 4/5] END model__C=100, model__gamma=scale, model__kernel=linear;, score=0.873 total time=   0.2s\n",
      "[CV 5/5] END model__C=100, model__gamma=scale, model__kernel=linear;, score=0.880 total time=   0.4s\n",
      "[CV 1/5] END model__C=100, model__gamma=scale, model__kernel=rbf;, score=0.901 total time=   0.3s\n",
      "[CV 2/5] END model__C=100, model__gamma=scale, model__kernel=rbf;, score=0.876 total time=   0.3s\n",
      "[CV 3/5] END model__C=100, model__gamma=scale, model__kernel=rbf;, score=0.892 total time=   0.3s\n",
      "[CV 4/5] END model__C=100, model__gamma=scale, model__kernel=rbf;, score=0.866 total time=   0.3s\n",
      "[CV 5/5] END model__C=100, model__gamma=scale, model__kernel=rbf;, score=0.875 total time=   0.3s\n",
      "[CV 1/5] END model__C=100, model__gamma=0.1, model__kernel=poly;, score=0.897 total time=   0.2s\n",
      "[CV 2/5] END model__C=100, model__gamma=0.1, model__kernel=poly;, score=0.871 total time=   0.2s\n",
      "[CV 3/5] END model__C=100, model__gamma=0.1, model__kernel=poly;, score=0.886 total time=   0.2s\n",
      "[CV 4/5] END model__C=100, model__gamma=0.1, model__kernel=poly;, score=0.865 total time=   0.2s\n",
      "[CV 5/5] END model__C=100, model__gamma=0.1, model__kernel=poly;, score=0.873 total time=   0.2s\n",
      "[CV 1/5] END model__C=100, model__gamma=0.1, model__kernel=linear;, score=0.897 total time=   0.3s\n",
      "[CV 2/5] END model__C=100, model__gamma=0.1, model__kernel=linear;, score=0.880 total time=   0.5s\n",
      "[CV 3/5] END model__C=100, model__gamma=0.1, model__kernel=linear;, score=0.891 total time=   0.4s\n",
      "[CV 4/5] END model__C=100, model__gamma=0.1, model__kernel=linear;, score=0.873 total time=   0.2s\n",
      "[CV 5/5] END model__C=100, model__gamma=0.1, model__kernel=linear;, score=0.880 total time=   0.4s\n",
      "[CV 1/5] END model__C=100, model__gamma=0.1, model__kernel=rbf;, score=0.898 total time=   0.3s\n",
      "[CV 2/5] END model__C=100, model__gamma=0.1, model__kernel=rbf;, score=0.871 total time=   0.3s\n",
      "[CV 3/5] END model__C=100, model__gamma=0.1, model__kernel=rbf;, score=0.888 total time=   0.3s\n",
      "[CV 4/5] END model__C=100, model__gamma=0.1, model__kernel=rbf;, score=0.862 total time=   0.3s\n",
      "[CV 5/5] END model__C=100, model__gamma=0.1, model__kernel=rbf;, score=0.872 total time=   0.4s\n"
     ]
    },
    {
     "data": {
      "text/plain": [
       "GridSearchCV(cv=5,\n",
       "             estimator=Pipeline(steps=[('scale', MinMaxScaler()),\n",
       "                                       ('model',\n",
       "                                        SVC(class_weight='balanced'))]),\n",
       "             param_grid={'model__C': [1, 5, 10, 100],\n",
       "                         'model__gamma': ['scale', 0.1],\n",
       "                         'model__kernel': ['poly', 'linear', 'rbf']},\n",
       "             scoring='accuracy', verbose=5)"
      ]
     },
     "execution_count": 40,
     "metadata": {},
     "output_type": "execute_result"
    }
   ],
   "source": [
    "from sklearn.model_selection import GridSearchCV\n",
    "param_grid = {'model__C': [1, 5, 10, 100],\n",
    "              'model__gamma': ['scale', 0.1], #if gamma='scale' (default) is passed then it uses 1 / (n_features * X.var()) as value of gamma, \n",
    "                                                                #if ‘auto’, uses 1 / n_features.\n",
    "              'model__kernel': ['poly','linear', 'rbf']\n",
    "               }\n",
    "\n",
    "# create pipeline\n",
    "scaler = MinMaxScaler()\n",
    "#rfe = RFE(estimator=RandomForestClassifier(n_estimators=100), n_features_to_select=30, verbose=5)\n",
    "model = SVC(class_weight = 'balanced') #Multipliers of parameter C for each class. Computed based on the class_weight parameter.\n",
    "pipeline = Pipeline(steps=[('scale', scaler), ('model',model)])\n",
    "\n",
    "gcv = GridSearchCV(\n",
    "        pipeline, \n",
    "        param_grid,\n",
    "        cv=5,\n",
    "        scoring = 'accuracy',\n",
    "        verbose=5\n",
    "    )\n",
    "\n",
    "gcv.fit(X_train, y_train)"
   ]
  },
  {
   "cell_type": "markdown",
   "id": "f9c3bd05",
   "metadata": {},
   "source": [
    "#### Best parameters"
   ]
  },
  {
   "cell_type": "code",
   "execution_count": 42,
   "id": "f2de9f1c",
   "metadata": {},
   "outputs": [
    {
     "data": {
      "text/plain": [
       "{'model__C': 100, 'model__gamma': 'scale', 'model__kernel': 'linear'}"
      ]
     },
     "execution_count": 42,
     "metadata": {},
     "output_type": "execute_result"
    }
   ],
   "source": [
    "gcv.best_params_\n"
   ]
  },
  {
   "cell_type": "markdown",
   "id": "449aa713",
   "metadata": {},
   "source": [
    "#### Best Score"
   ]
  },
  {
   "cell_type": "code",
   "execution_count": 44,
   "id": "0334ecab",
   "metadata": {},
   "outputs": [
    {
     "data": {
      "text/plain": [
       "0.884223615366143"
      ]
     },
     "execution_count": 44,
     "metadata": {},
     "output_type": "execute_result"
    }
   ],
   "source": [
    "gcv.best_score_"
   ]
  },
  {
   "cell_type": "markdown",
   "id": "13e30fbc",
   "metadata": {},
   "source": [
    "### Model Evaluation on test data"
   ]
  },
  {
   "cell_type": "code",
   "execution_count": 50,
   "id": "37c66353",
   "metadata": {},
   "outputs": [],
   "source": [
    "from sklearn.metrics import plot_confusion_matrix\n",
    "scaler = MinMaxScaler()\n",
    "scaler.fit(X_train)\n",
    "X_train_scaled = scaler.transform(X_train)\n",
    "\n",
    "model = SVC(class_weight = 'balanced', C = 100, kernel = 'linear') #gamma is not applicable to linear kernel\n",
    "model.fit(X_train_scaled, y_train)\n",
    "\n",
    "#On test\n",
    "X_test_scaled = scaler.transform(X_test)\n",
    "y_pred = model.predict(X_test_scaled)\n",
    "\n"
   ]
  },
  {
   "cell_type": "code",
   "execution_count": 51,
   "id": "f8c5fc5d",
   "metadata": {},
   "outputs": [
    {
     "name": "stdout",
     "output_type": "stream",
     "text": [
      "Accuracy: 0.881\n"
     ]
    },
    {
     "data": {
      "image/png": "[encoded data removed]",
      "text/plain": [
       "<Figure size 432x288 with 2 Axes>"
      ]
     },
     "metadata": {
      "needs_background": "light"
     },
     "output_type": "display_data"
    }
   ],
   "source": [
    "from sklearn.metrics import confusion_matrix, ConfusionMatrixDisplay\n",
    "DTcm_tr_tune = confusion_matrix(y_test, y_pred, labels=model.classes_) # imported sklearn function\n",
    "DTdisp_tr_tune = ConfusionMatrixDisplay(confusion_matrix=DTcm_tr_tune, display_labels=model.classes_) # imported sklearn function\n",
    "DTdisp_tr_tune.plot()\n",
    "\n",
    "print('Accuracy: %.3f' % model.score(X_test_scaled, y_test))"
   ]
  },
  {
   "cell_type": "code",
   "execution_count": 53,
   "id": "87b9e2df",
   "metadata": {},
   "outputs": [
    {
     "data": {
      "text/plain": [
       "['M2_Rajesh_SVM.sav']"
      ]
     },
     "execution_count": 53,
     "metadata": {},
     "output_type": "execute_result"
    }
   ],
   "source": [
    "import joblib\n",
    "filename = 'M2_Rajesh_SVM.sav'\n",
    "joblib.dump(model, filename)  "
   ]
  }
 ],
 "metadata": {
  "kernelspec": {
   "display_name": "Python 3",
   "language": "python",
   "name": "python3"
  },
  "language_info": {
   "codemirror_mode": {
    "name": "ipython",
    "version": 3
   },
   "file_extension": ".py",
   "mimetype": "text/x-python",
   "name": "python",
   "nbconvert_exporter": "python",
   "pygments_lexer": "ipython3",
   "version": "3.6.13"
  }
 },
 "nbformat": 4,
 "nbformat_minor": 5
}
