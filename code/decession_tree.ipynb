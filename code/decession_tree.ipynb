{
 "cells": [
  {
   "cell_type": "code",
   "execution_count": 2,
   "id": "a7993675",
   "metadata": {},
   "outputs": [],
   "source": [
    "import pandas as pd\n",
    "import numpy as np\n",
    "import matplotlib.pyplot as plt\n",
    "from sklearn import metrics\n",
    "from sklearn.metrics import confusion_matrix, classification_report"
   ]
  },
  {
   "cell_type": "code",
   "execution_count": 3,
   "id": "3bee321e",
   "metadata": {},
   "outputs": [],
   "source": [
    "df = pd.read_csv(\"exoplanet_data.csv\")"
   ]
  },
  {
   "cell_type": "code",
   "execution_count": 4,
   "id": "611048ec",
   "metadata": {},
   "outputs": [
    {
     "data": {
      "text/html": [
       "<div>\n",
       "<style scoped>\n",
       "    .dataframe tbody tr th:only-of-type {\n",
       "        vertical-align: middle;\n",
       "    }\n",
       "\n",
       "    .dataframe tbody tr th {\n",
       "        vertical-align: top;\n",
       "    }\n",
       "\n",
       "    .dataframe thead th {\n",
       "        text-align: right;\n",
       "    }\n",
       "</style>\n",
       "<table border=\"1\" class=\"dataframe\">\n",
       "  <thead>\n",
       "    <tr style=\"text-align: right;\">\n",
       "      <th></th>\n",
       "      <th>koi_disposition</th>\n",
       "      <th>koi_fpflag_nt</th>\n",
       "      <th>koi_fpflag_ss</th>\n",
       "      <th>koi_fpflag_co</th>\n",
       "      <th>koi_fpflag_ec</th>\n",
       "      <th>koi_period</th>\n",
       "      <th>koi_period_err1</th>\n",
       "      <th>koi_period_err2</th>\n",
       "      <th>koi_time0bk</th>\n",
       "      <th>koi_time0bk_err1</th>\n",
       "      <th>...</th>\n",
       "      <th>koi_steff_err2</th>\n",
       "      <th>koi_slogg</th>\n",
       "      <th>koi_slogg_err1</th>\n",
       "      <th>koi_slogg_err2</th>\n",
       "      <th>koi_srad</th>\n",
       "      <th>koi_srad_err1</th>\n",
       "      <th>koi_srad_err2</th>\n",
       "      <th>ra</th>\n",
       "      <th>dec</th>\n",
       "      <th>koi_kepmag</th>\n",
       "    </tr>\n",
       "  </thead>\n",
       "  <tbody>\n",
       "    <tr>\n",
       "      <th>0</th>\n",
       "      <td>CONFIRMED</td>\n",
       "      <td>0</td>\n",
       "      <td>0</td>\n",
       "      <td>0</td>\n",
       "      <td>0</td>\n",
       "      <td>54.418383</td>\n",
       "      <td>2.479000e-04</td>\n",
       "      <td>-2.479000e-04</td>\n",
       "      <td>162.513840</td>\n",
       "      <td>0.003520</td>\n",
       "      <td>...</td>\n",
       "      <td>-81</td>\n",
       "      <td>4.467</td>\n",
       "      <td>0.064</td>\n",
       "      <td>-0.096</td>\n",
       "      <td>0.927</td>\n",
       "      <td>0.105</td>\n",
       "      <td>-0.061</td>\n",
       "      <td>291.93423</td>\n",
       "      <td>48.141651</td>\n",
       "      <td>15.347</td>\n",
       "    </tr>\n",
       "    <tr>\n",
       "      <th>1</th>\n",
       "      <td>FALSE POSITIVE</td>\n",
       "      <td>0</td>\n",
       "      <td>1</td>\n",
       "      <td>0</td>\n",
       "      <td>0</td>\n",
       "      <td>19.899140</td>\n",
       "      <td>1.490000e-05</td>\n",
       "      <td>-1.490000e-05</td>\n",
       "      <td>175.850252</td>\n",
       "      <td>0.000581</td>\n",
       "      <td>...</td>\n",
       "      <td>-176</td>\n",
       "      <td>4.544</td>\n",
       "      <td>0.044</td>\n",
       "      <td>-0.176</td>\n",
       "      <td>0.868</td>\n",
       "      <td>0.233</td>\n",
       "      <td>-0.078</td>\n",
       "      <td>297.00482</td>\n",
       "      <td>48.134129</td>\n",
       "      <td>15.436</td>\n",
       "    </tr>\n",
       "    <tr>\n",
       "      <th>2</th>\n",
       "      <td>FALSE POSITIVE</td>\n",
       "      <td>0</td>\n",
       "      <td>1</td>\n",
       "      <td>0</td>\n",
       "      <td>0</td>\n",
       "      <td>1.736952</td>\n",
       "      <td>2.630000e-07</td>\n",
       "      <td>-2.630000e-07</td>\n",
       "      <td>170.307565</td>\n",
       "      <td>0.000115</td>\n",
       "      <td>...</td>\n",
       "      <td>-174</td>\n",
       "      <td>4.564</td>\n",
       "      <td>0.053</td>\n",
       "      <td>-0.168</td>\n",
       "      <td>0.791</td>\n",
       "      <td>0.201</td>\n",
       "      <td>-0.067</td>\n",
       "      <td>285.53461</td>\n",
       "      <td>48.285210</td>\n",
       "      <td>15.597</td>\n",
       "    </tr>\n",
       "    <tr>\n",
       "      <th>3</th>\n",
       "      <td>CONFIRMED</td>\n",
       "      <td>0</td>\n",
       "      <td>0</td>\n",
       "      <td>0</td>\n",
       "      <td>0</td>\n",
       "      <td>2.525592</td>\n",
       "      <td>3.760000e-06</td>\n",
       "      <td>-3.760000e-06</td>\n",
       "      <td>171.595550</td>\n",
       "      <td>0.001130</td>\n",
       "      <td>...</td>\n",
       "      <td>-211</td>\n",
       "      <td>4.438</td>\n",
       "      <td>0.070</td>\n",
       "      <td>-0.210</td>\n",
       "      <td>1.046</td>\n",
       "      <td>0.334</td>\n",
       "      <td>-0.133</td>\n",
       "      <td>288.75488</td>\n",
       "      <td>48.226200</td>\n",
       "      <td>15.509</td>\n",
       "    </tr>\n",
       "    <tr>\n",
       "      <th>4</th>\n",
       "      <td>CONFIRMED</td>\n",
       "      <td>0</td>\n",
       "      <td>0</td>\n",
       "      <td>0</td>\n",
       "      <td>0</td>\n",
       "      <td>4.134435</td>\n",
       "      <td>1.050000e-05</td>\n",
       "      <td>-1.050000e-05</td>\n",
       "      <td>172.979370</td>\n",
       "      <td>0.001900</td>\n",
       "      <td>...</td>\n",
       "      <td>-232</td>\n",
       "      <td>4.486</td>\n",
       "      <td>0.054</td>\n",
       "      <td>-0.229</td>\n",
       "      <td>0.972</td>\n",
       "      <td>0.315</td>\n",
       "      <td>-0.105</td>\n",
       "      <td>296.28613</td>\n",
       "      <td>48.224670</td>\n",
       "      <td>15.714</td>\n",
       "    </tr>\n",
       "    <tr>\n",
       "      <th>5</th>\n",
       "      <td>CONFIRMED</td>\n",
       "      <td>0</td>\n",
       "      <td>0</td>\n",
       "      <td>0</td>\n",
       "      <td>0</td>\n",
       "      <td>2.566589</td>\n",
       "      <td>1.780000e-05</td>\n",
       "      <td>-1.780000e-05</td>\n",
       "      <td>179.554370</td>\n",
       "      <td>0.004610</td>\n",
       "      <td>...</td>\n",
       "      <td>-232</td>\n",
       "      <td>4.486</td>\n",
       "      <td>0.054</td>\n",
       "      <td>-0.229</td>\n",
       "      <td>0.972</td>\n",
       "      <td>0.315</td>\n",
       "      <td>-0.105</td>\n",
       "      <td>296.28613</td>\n",
       "      <td>48.224670</td>\n",
       "      <td>15.714</td>\n",
       "    </tr>\n",
       "    <tr>\n",
       "      <th>6</th>\n",
       "      <td>CONFIRMED</td>\n",
       "      <td>0</td>\n",
       "      <td>0</td>\n",
       "      <td>0</td>\n",
       "      <td>0</td>\n",
       "      <td>16.068647</td>\n",
       "      <td>1.090000e-05</td>\n",
       "      <td>-1.090000e-05</td>\n",
       "      <td>173.621937</td>\n",
       "      <td>0.000517</td>\n",
       "      <td>...</td>\n",
       "      <td>-83</td>\n",
       "      <td>4.485</td>\n",
       "      <td>0.083</td>\n",
       "      <td>-0.028</td>\n",
       "      <td>0.848</td>\n",
       "      <td>0.033</td>\n",
       "      <td>-0.072</td>\n",
       "      <td>286.99948</td>\n",
       "      <td>48.375790</td>\n",
       "      <td>15.841</td>\n",
       "    </tr>\n",
       "    <tr>\n",
       "      <th>7</th>\n",
       "      <td>CONFIRMED</td>\n",
       "      <td>0</td>\n",
       "      <td>0</td>\n",
       "      <td>0</td>\n",
       "      <td>0</td>\n",
       "      <td>2.470613</td>\n",
       "      <td>2.700000e-08</td>\n",
       "      <td>-2.700000e-08</td>\n",
       "      <td>122.763305</td>\n",
       "      <td>0.000009</td>\n",
       "      <td>...</td>\n",
       "      <td>-78</td>\n",
       "      <td>4.457</td>\n",
       "      <td>0.024</td>\n",
       "      <td>-0.024</td>\n",
       "      <td>0.964</td>\n",
       "      <td>0.038</td>\n",
       "      <td>-0.038</td>\n",
       "      <td>286.80847</td>\n",
       "      <td>49.316399</td>\n",
       "      <td>11.338</td>\n",
       "    </tr>\n",
       "    <tr>\n",
       "      <th>8</th>\n",
       "      <td>CONFIRMED</td>\n",
       "      <td>0</td>\n",
       "      <td>1</td>\n",
       "      <td>0</td>\n",
       "      <td>0</td>\n",
       "      <td>2.204735</td>\n",
       "      <td>4.300000e-08</td>\n",
       "      <td>-4.300000e-08</td>\n",
       "      <td>121.358542</td>\n",
       "      <td>0.000016</td>\n",
       "      <td>...</td>\n",
       "      <td>-89</td>\n",
       "      <td>4.019</td>\n",
       "      <td>0.033</td>\n",
       "      <td>-0.027</td>\n",
       "      <td>1.952</td>\n",
       "      <td>0.099</td>\n",
       "      <td>-0.110</td>\n",
       "      <td>292.24728</td>\n",
       "      <td>47.969521</td>\n",
       "      <td>10.463</td>\n",
       "    </tr>\n",
       "    <tr>\n",
       "      <th>9</th>\n",
       "      <td>CONFIRMED</td>\n",
       "      <td>0</td>\n",
       "      <td>0</td>\n",
       "      <td>0</td>\n",
       "      <td>0</td>\n",
       "      <td>3.522498</td>\n",
       "      <td>1.980000e-07</td>\n",
       "      <td>-1.980000e-07</td>\n",
       "      <td>121.119423</td>\n",
       "      <td>0.000047</td>\n",
       "      <td>...</td>\n",
       "      <td>-137</td>\n",
       "      <td>4.169</td>\n",
       "      <td>0.055</td>\n",
       "      <td>-0.045</td>\n",
       "      <td>1.451</td>\n",
       "      <td>0.110</td>\n",
       "      <td>-0.110</td>\n",
       "      <td>281.28812</td>\n",
       "      <td>42.451080</td>\n",
       "      <td>13.563</td>\n",
       "    </tr>\n",
       "  </tbody>\n",
       "</table>\n",
       "<p>10 rows × 41 columns</p>\n",
       "</div>"
      ],
      "text/plain": [
       "  koi_disposition  koi_fpflag_nt  koi_fpflag_ss  koi_fpflag_co  koi_fpflag_ec  \\\n",
       "0       CONFIRMED              0              0              0              0   \n",
       "1  FALSE POSITIVE              0              1              0              0   \n",
       "2  FALSE POSITIVE              0              1              0              0   \n",
       "3       CONFIRMED              0              0              0              0   \n",
       "4       CONFIRMED              0              0              0              0   \n",
       "5       CONFIRMED              0              0              0              0   \n",
       "6       CONFIRMED              0              0              0              0   \n",
       "7       CONFIRMED              0              0              0              0   \n",
       "8       CONFIRMED              0              1              0              0   \n",
       "9       CONFIRMED              0              0              0              0   \n",
       "\n",
       "   koi_period  koi_period_err1  koi_period_err2  koi_time0bk  \\\n",
       "0   54.418383     2.479000e-04    -2.479000e-04   162.513840   \n",
       "1   19.899140     1.490000e-05    -1.490000e-05   175.850252   \n",
       "2    1.736952     2.630000e-07    -2.630000e-07   170.307565   \n",
       "3    2.525592     3.760000e-06    -3.760000e-06   171.595550   \n",
       "4    4.134435     1.050000e-05    -1.050000e-05   172.979370   \n",
       "5    2.566589     1.780000e-05    -1.780000e-05   179.554370   \n",
       "6   16.068647     1.090000e-05    -1.090000e-05   173.621937   \n",
       "7    2.470613     2.700000e-08    -2.700000e-08   122.763305   \n",
       "8    2.204735     4.300000e-08    -4.300000e-08   121.358542   \n",
       "9    3.522498     1.980000e-07    -1.980000e-07   121.119423   \n",
       "\n",
       "   koi_time0bk_err1  ...  koi_steff_err2  koi_slogg  koi_slogg_err1  \\\n",
       "0          0.003520  ...             -81      4.467           0.064   \n",
       "1          0.000581  ...            -176      4.544           0.044   \n",
       "2          0.000115  ...            -174      4.564           0.053   \n",
       "3          0.001130  ...            -211      4.438           0.070   \n",
       "4          0.001900  ...            -232      4.486           0.054   \n",
       "5          0.004610  ...            -232      4.486           0.054   \n",
       "6          0.000517  ...             -83      4.485           0.083   \n",
       "7          0.000009  ...             -78      4.457           0.024   \n",
       "8          0.000016  ...             -89      4.019           0.033   \n",
       "9          0.000047  ...            -137      4.169           0.055   \n",
       "\n",
       "   koi_slogg_err2  koi_srad  koi_srad_err1  koi_srad_err2         ra  \\\n",
       "0          -0.096     0.927          0.105         -0.061  291.93423   \n",
       "1          -0.176     0.868          0.233         -0.078  297.00482   \n",
       "2          -0.168     0.791          0.201         -0.067  285.53461   \n",
       "3          -0.210     1.046          0.334         -0.133  288.75488   \n",
       "4          -0.229     0.972          0.315         -0.105  296.28613   \n",
       "5          -0.229     0.972          0.315         -0.105  296.28613   \n",
       "6          -0.028     0.848          0.033         -0.072  286.99948   \n",
       "7          -0.024     0.964          0.038         -0.038  286.80847   \n",
       "8          -0.027     1.952          0.099         -0.110  292.24728   \n",
       "9          -0.045     1.451          0.110         -0.110  281.28812   \n",
       "\n",
       "         dec  koi_kepmag  \n",
       "0  48.141651      15.347  \n",
       "1  48.134129      15.436  \n",
       "2  48.285210      15.597  \n",
       "3  48.226200      15.509  \n",
       "4  48.224670      15.714  \n",
       "5  48.224670      15.714  \n",
       "6  48.375790      15.841  \n",
       "7  49.316399      11.338  \n",
       "8  47.969521      10.463  \n",
       "9  42.451080      13.563  \n",
       "\n",
       "[10 rows x 41 columns]"
      ]
     },
     "execution_count": 4,
     "metadata": {},
     "output_type": "execute_result"
    }
   ],
   "source": [
    "df.head(10)"
   ]
  },
  {
   "cell_type": "code",
   "execution_count": 5,
   "id": "6ed9b5d0",
   "metadata": {},
   "outputs": [
    {
     "name": "stdout",
     "output_type": "stream",
     "text": [
      "<class 'pandas.core.frame.DataFrame'>\n",
      "RangeIndex: 6991 entries, 0 to 6990\n",
      "Data columns (total 41 columns):\n",
      " #   Column             Non-Null Count  Dtype  \n",
      "---  ------             --------------  -----  \n",
      " 0   koi_disposition    6991 non-null   object \n",
      " 1   koi_fpflag_nt      6991 non-null   int64  \n",
      " 2   koi_fpflag_ss      6991 non-null   int64  \n",
      " 3   koi_fpflag_co      6991 non-null   int64  \n",
      " 4   koi_fpflag_ec      6991 non-null   int64  \n",
      " 5   koi_period         6991 non-null   float64\n",
      " 6   koi_period_err1    6991 non-null   float64\n",
      " 7   koi_period_err2    6991 non-null   float64\n",
      " 8   koi_time0bk        6991 non-null   float64\n",
      " 9   koi_time0bk_err1   6991 non-null   float64\n",
      " 10  koi_time0bk_err2   6991 non-null   float64\n",
      " 11  koi_impact         6991 non-null   float64\n",
      " 12  koi_impact_err1    6991 non-null   float64\n",
      " 13  koi_impact_err2    6991 non-null   float64\n",
      " 14  koi_duration       6991 non-null   float64\n",
      " 15  koi_duration_err1  6991 non-null   float64\n",
      " 16  koi_duration_err2  6991 non-null   float64\n",
      " 17  koi_depth          6991 non-null   float64\n",
      " 18  koi_depth_err1     6991 non-null   float64\n",
      " 19  koi_depth_err2     6991 non-null   float64\n",
      " 20  koi_prad           6991 non-null   float64\n",
      " 21  koi_prad_err1      6991 non-null   float64\n",
      " 22  koi_prad_err2      6991 non-null   float64\n",
      " 23  koi_teq            6991 non-null   int64  \n",
      " 24  koi_insol          6991 non-null   float64\n",
      " 25  koi_insol_err1     6991 non-null   float64\n",
      " 26  koi_insol_err2     6991 non-null   float64\n",
      " 27  koi_model_snr      6991 non-null   float64\n",
      " 28  koi_tce_plnt_num   6991 non-null   int64  \n",
      " 29  koi_steff          6991 non-null   int64  \n",
      " 30  koi_steff_err1     6991 non-null   int64  \n",
      " 31  koi_steff_err2     6991 non-null   int64  \n",
      " 32  koi_slogg          6991 non-null   float64\n",
      " 33  koi_slogg_err1     6991 non-null   float64\n",
      " 34  koi_slogg_err2     6991 non-null   float64\n",
      " 35  koi_srad           6991 non-null   float64\n",
      " 36  koi_srad_err1      6991 non-null   float64\n",
      " 37  koi_srad_err2      6991 non-null   float64\n",
      " 38  ra                 6991 non-null   float64\n",
      " 39  dec                6991 non-null   float64\n",
      " 40  koi_kepmag         6991 non-null   float64\n",
      "dtypes: float64(31), int64(9), object(1)\n",
      "memory usage: 2.2+ MB\n"
     ]
    }
   ],
   "source": [
    "df.info()"
   ]
  },
  {
   "cell_type": "code",
   "execution_count": 6,
   "id": "04ba4daf",
   "metadata": {},
   "outputs": [
    {
     "data": {
      "text/plain": [
       "Index(['koi_disposition', 'koi_fpflag_nt', 'koi_fpflag_ss', 'koi_fpflag_co',\n",
       "       'koi_fpflag_ec', 'koi_period', 'koi_period_err1', 'koi_period_err2',\n",
       "       'koi_time0bk', 'koi_time0bk_err1', 'koi_time0bk_err2', 'koi_impact',\n",
       "       'koi_impact_err1', 'koi_impact_err2', 'koi_duration',\n",
       "       'koi_duration_err1', 'koi_duration_err2', 'koi_depth', 'koi_depth_err1',\n",
       "       'koi_depth_err2', 'koi_prad', 'koi_prad_err1', 'koi_prad_err2',\n",
       "       'koi_teq', 'koi_insol', 'koi_insol_err1', 'koi_insol_err2',\n",
       "       'koi_model_snr', 'koi_tce_plnt_num', 'koi_steff', 'koi_steff_err1',\n",
       "       'koi_steff_err2', 'koi_slogg', 'koi_slogg_err1', 'koi_slogg_err2',\n",
       "       'koi_srad', 'koi_srad_err1', 'koi_srad_err2', 'ra', 'dec',\n",
       "       'koi_kepmag'],\n",
       "      dtype='object')"
      ]
     },
     "execution_count": 6,
     "metadata": {},
     "output_type": "execute_result"
    }
   ],
   "source": [
    "df.columns"
   ]
  },
  {
   "cell_type": "code",
   "execution_count": 7,
   "id": "5015f992",
   "metadata": {},
   "outputs": [],
   "source": [
    "# Dropping all the error columns\n",
    "\n",
    "df.drop([\"koi_period_err1\", \"koi_period_err2\", \"koi_time0bk_err1\", \"koi_time0bk_err2\", \"koi_duration_err1\",\n",
    "              \"koi_duration_err2\", \"koi_depth_err1\", \"koi_depth_err2\", \"koi_prad_err1\", \"koi_prad_err2\",\n",
    "              \"koi_insol_err1\", \"koi_insol_err2\", \"koi_steff_err1\", \"koi_steff_err2\",\"koi_slogg_err1\",\n",
    "              \"koi_slogg_err2\", \"koi_srad_err1\", \"koi_srad_err2\"], axis=1, inplace = True)"
   ]
  },
  {
   "cell_type": "code",
   "execution_count": 8,
   "id": "c5670731",
   "metadata": {},
   "outputs": [
    {
     "data": {
      "text/html": [
       "<div>\n",
       "<style scoped>\n",
       "    .dataframe tbody tr th:only-of-type {\n",
       "        vertical-align: middle;\n",
       "    }\n",
       "\n",
       "    .dataframe tbody tr th {\n",
       "        vertical-align: top;\n",
       "    }\n",
       "\n",
       "    .dataframe thead th {\n",
       "        text-align: right;\n",
       "    }\n",
       "</style>\n",
       "<table border=\"1\" class=\"dataframe\">\n",
       "  <thead>\n",
       "    <tr style=\"text-align: right;\">\n",
       "      <th></th>\n",
       "      <th>koi_disposition</th>\n",
       "      <th>koi_fpflag_nt</th>\n",
       "      <th>koi_fpflag_ss</th>\n",
       "      <th>koi_fpflag_co</th>\n",
       "      <th>koi_fpflag_ec</th>\n",
       "      <th>koi_period</th>\n",
       "      <th>koi_time0bk</th>\n",
       "      <th>koi_impact</th>\n",
       "      <th>koi_impact_err1</th>\n",
       "      <th>koi_impact_err2</th>\n",
       "      <th>...</th>\n",
       "      <th>koi_teq</th>\n",
       "      <th>koi_insol</th>\n",
       "      <th>koi_model_snr</th>\n",
       "      <th>koi_tce_plnt_num</th>\n",
       "      <th>koi_steff</th>\n",
       "      <th>koi_slogg</th>\n",
       "      <th>koi_srad</th>\n",
       "      <th>ra</th>\n",
       "      <th>dec</th>\n",
       "      <th>koi_kepmag</th>\n",
       "    </tr>\n",
       "  </thead>\n",
       "  <tbody>\n",
       "    <tr>\n",
       "      <th>0</th>\n",
       "      <td>CONFIRMED</td>\n",
       "      <td>0</td>\n",
       "      <td>0</td>\n",
       "      <td>0</td>\n",
       "      <td>0</td>\n",
       "      <td>54.418383</td>\n",
       "      <td>162.513840</td>\n",
       "      <td>0.586</td>\n",
       "      <td>0.059</td>\n",
       "      <td>-0.443</td>\n",
       "      <td>...</td>\n",
       "      <td>443</td>\n",
       "      <td>9.11</td>\n",
       "      <td>25.8</td>\n",
       "      <td>2</td>\n",
       "      <td>5455</td>\n",
       "      <td>4.467</td>\n",
       "      <td>0.927</td>\n",
       "      <td>291.93423</td>\n",
       "      <td>48.141651</td>\n",
       "      <td>15.347</td>\n",
       "    </tr>\n",
       "    <tr>\n",
       "      <th>1</th>\n",
       "      <td>FALSE POSITIVE</td>\n",
       "      <td>0</td>\n",
       "      <td>1</td>\n",
       "      <td>0</td>\n",
       "      <td>0</td>\n",
       "      <td>19.899140</td>\n",
       "      <td>175.850252</td>\n",
       "      <td>0.969</td>\n",
       "      <td>5.126</td>\n",
       "      <td>-0.077</td>\n",
       "      <td>...</td>\n",
       "      <td>638</td>\n",
       "      <td>39.30</td>\n",
       "      <td>76.3</td>\n",
       "      <td>1</td>\n",
       "      <td>5853</td>\n",
       "      <td>4.544</td>\n",
       "      <td>0.868</td>\n",
       "      <td>297.00482</td>\n",
       "      <td>48.134129</td>\n",
       "      <td>15.436</td>\n",
       "    </tr>\n",
       "    <tr>\n",
       "      <th>2</th>\n",
       "      <td>FALSE POSITIVE</td>\n",
       "      <td>0</td>\n",
       "      <td>1</td>\n",
       "      <td>0</td>\n",
       "      <td>0</td>\n",
       "      <td>1.736952</td>\n",
       "      <td>170.307565</td>\n",
       "      <td>1.276</td>\n",
       "      <td>0.115</td>\n",
       "      <td>-0.092</td>\n",
       "      <td>...</td>\n",
       "      <td>1395</td>\n",
       "      <td>891.96</td>\n",
       "      <td>505.6</td>\n",
       "      <td>1</td>\n",
       "      <td>5805</td>\n",
       "      <td>4.564</td>\n",
       "      <td>0.791</td>\n",
       "      <td>285.53461</td>\n",
       "      <td>48.285210</td>\n",
       "      <td>15.597</td>\n",
       "    </tr>\n",
       "    <tr>\n",
       "      <th>3</th>\n",
       "      <td>CONFIRMED</td>\n",
       "      <td>0</td>\n",
       "      <td>0</td>\n",
       "      <td>0</td>\n",
       "      <td>0</td>\n",
       "      <td>2.525592</td>\n",
       "      <td>171.595550</td>\n",
       "      <td>0.701</td>\n",
       "      <td>0.235</td>\n",
       "      <td>-0.478</td>\n",
       "      <td>...</td>\n",
       "      <td>1406</td>\n",
       "      <td>926.16</td>\n",
       "      <td>40.9</td>\n",
       "      <td>1</td>\n",
       "      <td>6031</td>\n",
       "      <td>4.438</td>\n",
       "      <td>1.046</td>\n",
       "      <td>288.75488</td>\n",
       "      <td>48.226200</td>\n",
       "      <td>15.509</td>\n",
       "    </tr>\n",
       "    <tr>\n",
       "      <th>4</th>\n",
       "      <td>CONFIRMED</td>\n",
       "      <td>0</td>\n",
       "      <td>0</td>\n",
       "      <td>0</td>\n",
       "      <td>0</td>\n",
       "      <td>4.134435</td>\n",
       "      <td>172.979370</td>\n",
       "      <td>0.762</td>\n",
       "      <td>0.139</td>\n",
       "      <td>-0.532</td>\n",
       "      <td>...</td>\n",
       "      <td>1160</td>\n",
       "      <td>427.65</td>\n",
       "      <td>40.2</td>\n",
       "      <td>2</td>\n",
       "      <td>6046</td>\n",
       "      <td>4.486</td>\n",
       "      <td>0.972</td>\n",
       "      <td>296.28613</td>\n",
       "      <td>48.224670</td>\n",
       "      <td>15.714</td>\n",
       "    </tr>\n",
       "  </tbody>\n",
       "</table>\n",
       "<p>5 rows × 23 columns</p>\n",
       "</div>"
      ],
      "text/plain": [
       "  koi_disposition  koi_fpflag_nt  koi_fpflag_ss  koi_fpflag_co  koi_fpflag_ec  \\\n",
       "0       CONFIRMED              0              0              0              0   \n",
       "1  FALSE POSITIVE              0              1              0              0   \n",
       "2  FALSE POSITIVE              0              1              0              0   \n",
       "3       CONFIRMED              0              0              0              0   \n",
       "4       CONFIRMED              0              0              0              0   \n",
       "\n",
       "   koi_period  koi_time0bk  koi_impact  koi_impact_err1  koi_impact_err2  ...  \\\n",
       "0   54.418383   162.513840       0.586            0.059           -0.443  ...   \n",
       "1   19.899140   175.850252       0.969            5.126           -0.077  ...   \n",
       "2    1.736952   170.307565       1.276            0.115           -0.092  ...   \n",
       "3    2.525592   171.595550       0.701            0.235           -0.478  ...   \n",
       "4    4.134435   172.979370       0.762            0.139           -0.532  ...   \n",
       "\n",
       "   koi_teq  koi_insol  koi_model_snr  koi_tce_plnt_num  koi_steff  koi_slogg  \\\n",
       "0      443       9.11           25.8                 2       5455      4.467   \n",
       "1      638      39.30           76.3                 1       5853      4.544   \n",
       "2     1395     891.96          505.6                 1       5805      4.564   \n",
       "3     1406     926.16           40.9                 1       6031      4.438   \n",
       "4     1160     427.65           40.2                 2       6046      4.486   \n",
       "\n",
       "   koi_srad         ra        dec  koi_kepmag  \n",
       "0     0.927  291.93423  48.141651      15.347  \n",
       "1     0.868  297.00482  48.134129      15.436  \n",
       "2     0.791  285.53461  48.285210      15.597  \n",
       "3     1.046  288.75488  48.226200      15.509  \n",
       "4     0.972  296.28613  48.224670      15.714  \n",
       "\n",
       "[5 rows x 23 columns]"
      ]
     },
     "execution_count": 8,
     "metadata": {},
     "output_type": "execute_result"
    }
   ],
   "source": [
    "df.head()"
   ]
  },
  {
   "cell_type": "code",
   "execution_count": 9,
   "id": "a61fe68d",
   "metadata": {},
   "outputs": [
    {
     "data": {
      "text/plain": [
       "array([[  0.      ,   0.      ,   0.      , ..., 291.93423 ,  48.141651,\n",
       "         15.347   ],\n",
       "       [  0.      ,   1.      ,   0.      , ..., 297.00482 ,  48.134129,\n",
       "         15.436   ],\n",
       "       [  0.      ,   1.      ,   0.      , ..., 285.53461 ,  48.28521 ,\n",
       "         15.597   ],\n",
       "       ...,\n",
       "       [  0.      ,   0.      ,   0.      , ..., 286.50937 ,  47.163219,\n",
       "         14.757   ],\n",
       "       [  0.      ,   0.      ,   1.      , ..., 294.16489 ,  47.176281,\n",
       "         15.385   ],\n",
       "       [  0.      ,   0.      ,   1.      , ..., 297.00977 ,  47.121021,\n",
       "         14.826   ]])"
      ]
     },
     "execution_count": 9,
     "metadata": {},
     "output_type": "execute_result"
    }
   ],
   "source": [
    "# Features and target\n",
    "X = df.iloc[:,[1,2,3,4,5,6,7,8,9,10,11,12,13,14,15,16,17,18,19,20,21,22]].values\n",
    "y = df.iloc[:,0].values\n",
    "y, class_names = pd.factorize(y)\n",
    "X"
   ]
  },
  {
   "cell_type": "code",
   "execution_count": 10,
   "id": "84f9633e",
   "metadata": {},
   "outputs": [
    {
     "data": {
      "text/plain": [
       "array([0, 1, 1, ..., 2, 1, 1], dtype=int64)"
      ]
     },
     "execution_count": 10,
     "metadata": {},
     "output_type": "execute_result"
    }
   ],
   "source": [
    "y"
   ]
  },
  {
   "cell_type": "code",
   "execution_count": 11,
   "id": "b3159cd7",
   "metadata": {},
   "outputs": [
    {
     "data": {
      "text/plain": [
       "array(['CONFIRMED', 'FALSE POSITIVE', 'CANDIDATE'], dtype=object)"
      ]
     },
     "execution_count": 11,
     "metadata": {},
     "output_type": "execute_result"
    }
   ],
   "source": [
    "class_names"
   ]
  },
  {
   "cell_type": "markdown",
   "id": "cbb5c465",
   "metadata": {},
   "source": [
    "## Decision tree without fine tuning"
   ]
  },
  {
   "cell_type": "code",
   "execution_count": 12,
   "id": "9991330c",
   "metadata": {},
   "outputs": [],
   "source": [
    "from sklearn.model_selection import train_test_split\n",
    "X_train, X_test, y_train, y_test = train_test_split(X, y, test_size = 0.25, stratify=y, random_state = 42)"
   ]
  },
  {
   "cell_type": "code",
   "execution_count": 13,
   "id": "654ce1bb",
   "metadata": {},
   "outputs": [
    {
     "name": "stdout",
     "output_type": "stream",
     "text": [
      "6991\n",
      "5243\n",
      "1748\n"
     ]
    }
   ],
   "source": [
    "print(len(df))\n",
    "print(len(X_train))\n",
    "print(len(X_test))"
   ]
  },
  {
   "cell_type": "code",
   "execution_count": 14,
   "id": "89000af8",
   "metadata": {},
   "outputs": [
    {
     "name": "stdout",
     "output_type": "stream",
     "text": [
      ">20, train: 0.989, test: 0.868\n"
     ]
    },
    {
     "data": {
      "image/png": "[encoded data removed]",
      "text/plain": [
       "<Figure size 432x288 with 1 Axes>"
      ]
     },
     "metadata": {
      "needs_background": "light"
     },
     "output_type": "display_data"
    }
   ],
   "source": [
    "from sklearn.tree import DecisionTreeClassifier\n",
    "from matplotlib import pyplot\n",
    "# define the tree depths to evaluate\n",
    "values = [i for i in range(1, 21)]\n",
    "# define lists to collect scores\n",
    "train_scores, test_scores = list(), list()\n",
    "# evaluate a decision tree for each depth\n",
    "for i in values:\n",
    "# configure the model\n",
    "    model = DecisionTreeClassifier(criterion='entropy',max_depth=i\n",
    ", random_state=42)\n",
    "# fit model on the training dataset\n",
    "    model.fit(X_train, y_train)\n",
    "# evaluate on the train dataset\n",
    "    train_yhat = model.predict(X_train)\n",
    "    train_acc = metrics.accuracy_score(y_train, train_yhat)\n",
    "    train_scores.append(train_acc)\n",
    "# evaluate on the test dataset\n",
    "    test_yhat = model.predict(X_test)\n",
    "    test_acc = metrics.accuracy_score(y_test, test_yhat)\n",
    "    test_scores.append(test_acc)\n",
    "# summarize progress\n",
    "print('>%d, train: %.3f, test: %.3f' % (i, train_acc, test_acc))\n",
    "# plot of train and test scores vs tree depth\n",
    "pyplot.plot(values, train_scores, '-o', label='Train')\n",
    "pyplot.plot(values, test_scores, '-o', label='Test')\n",
    "pyplot.legend()\n",
    "pyplot.show()"
   ]
  },
  {
   "cell_type": "code",
   "execution_count": 15,
   "id": "e4a79e45",
   "metadata": {},
   "outputs": [
    {
     "data": {
      "text/plain": [
       "DecisionTreeClassifier(criterion='entropy', max_depth=4, random_state=42)"
      ]
     },
     "execution_count": 15,
     "metadata": {},
     "output_type": "execute_result"
    }
   ],
   "source": [
    "# Slecting the max depth 4 and creating the model\n",
    "classifier = DecisionTreeClassifier(criterion='entropy',max_depth=4, random_state=42)\n",
    "classifier.fit(X_train, y_train)"
   ]
  },
  {
   "cell_type": "code",
   "execution_count": 16,
   "id": "011f4e68",
   "metadata": {},
   "outputs": [],
   "source": [
    "y_pred_train = classifier.predict(X_train)"
   ]
  },
  {
   "cell_type": "code",
   "execution_count": 17,
   "id": "9c653c58",
   "metadata": {},
   "outputs": [
    {
     "data": {
      "text/plain": [
       "0.8659164600419607"
      ]
     },
     "execution_count": 17,
     "metadata": {},
     "output_type": "execute_result"
    }
   ],
   "source": [
    "accuracy_train = metrics.accuracy_score(y_train, y_pred_train)\n",
    "accuracy_train"
   ]
  },
  {
   "cell_type": "code",
   "execution_count": 18,
   "id": "d71139f4",
   "metadata": {},
   "outputs": [
    {
     "data": {
      "text/plain": [
       "0.8592677345537757"
      ]
     },
     "execution_count": 18,
     "metadata": {},
     "output_type": "execute_result"
    }
   ],
   "source": [
    "# prediction on test data\n",
    "y_pred_test = classifier.predict(X_test)\n",
    "accuracy_test = metrics.accuracy_score(y_test, y_pred_test)\n",
    "accuracy_test"
   ]
  },
  {
   "cell_type": "code",
   "execution_count": 19,
   "id": "3a654079",
   "metadata": {},
   "outputs": [
    {
     "name": "stdout",
     "output_type": "stream",
     "text": [
      "                precision    recall  f1-score   support\n",
      "\n",
      "     CONFIRMED       0.71      0.87      0.78       450\n",
      "FALSE POSITIVE       0.98      0.97      0.97       876\n",
      "     CANDIDATE       0.80      0.62      0.70       422\n",
      "\n",
      "      accuracy                           0.86      1748\n",
      "     macro avg       0.83      0.82      0.82      1748\n",
      "  weighted avg       0.87      0.86      0.86      1748\n",
      "\n"
     ]
    }
   ],
   "source": [
    "\n",
    "print(classification_report(y_test, y_pred_test,\n",
    "                            target_names=class_names))"
   ]
  },
  {
   "cell_type": "code",
   "execution_count": 20,
   "id": "4e68a727",
   "metadata": {},
   "outputs": [
    {
     "name": "stdout",
     "output_type": "stream",
     "text": [
      "[[391  10  49]\n",
      " [  8 850  18]\n",
      " [153   8 261]]\n"
     ]
    }
   ],
   "source": [
    "cm = confusion_matrix(y_test, y_pred_test)\n",
    "print(cm)"
   ]
  },
  {
   "cell_type": "code",
   "execution_count": 21,
   "id": "5377a9d0",
   "metadata": {},
   "outputs": [],
   "source": [
    "import seaborn as sns"
   ]
  },
  {
   "cell_type": "code",
   "execution_count": 22,
   "id": "ae42589e",
   "metadata": {},
   "outputs": [
    {
     "name": "stdout",
     "output_type": "stream",
     "text": [
      "Accuracy: 0.859\n"
     ]
    },
    {
     "data": {
      "image/png": "[encoded data removed]",
      "text/plain": [
       "<Figure size 432x288 with 2 Axes>"
      ]
     },
     "metadata": {
      "needs_background": "light"
     },
     "output_type": "display_data"
    }
   ],
   "source": [
    "# confusion matrix before tuning\n",
    "\n",
    "from sklearn.metrics import confusion_matrix, ConfusionMatrixDisplay\n",
    "cm_tr = confusion_matrix(y_test, y_pred_test, labels=classifier.classes_) # imported sklearn function\n",
    "disp_tr = ConfusionMatrixDisplay(confusion_matrix=cm_tr, display_labels=classifier.classes_) # imported sklearn function\n",
    "disp_tr.plot()\n",
    "print('Accuracy: %.3f' % classifier.score(X_test, y_test))"
   ]
  },
  {
   "cell_type": "markdown",
   "id": "f750e0de",
   "metadata": {},
   "source": [
    "## GridSearch CV to tune decision tree "
   ]
  },
  {
   "cell_type": "code",
   "execution_count": 23,
   "id": "36ac99b4",
   "metadata": {},
   "outputs": [],
   "source": [
    "from sklearn.model_selection import GridSearchCV"
   ]
  },
  {
   "cell_type": "code",
   "execution_count": 24,
   "id": "ab3ebd79",
   "metadata": {},
   "outputs": [],
   "source": [
    "param_grid = {\n",
    "'max_depth': [2,4,6,8,10],\n",
    "'min_samples_split': [5,10,15,20]\n",
    "}"
   ]
  },
  {
   "cell_type": "code",
   "execution_count": 25,
   "id": "f9679489",
   "metadata": {},
   "outputs": [],
   "source": [
    "tunner = GridSearchCV(\n",
    "    DecisionTreeClassifier(random_state = 42),\n",
    "    param_grid,\n",
    "    cv = 5,\n",
    "    verbose = 3\n",
    ")"
   ]
  },
  {
   "cell_type": "code",
   "execution_count": 26,
   "id": "8eacf3a2",
   "metadata": {},
   "outputs": [
    {
     "name": "stdout",
     "output_type": "stream",
     "text": [
      "Fitting 5 folds for each of 20 candidates, totalling 100 fits\n",
      "[CV 1/5] END ..max_depth=2, min_samples_split=5;, score=0.633 total time=   0.0s\n",
      "[CV 2/5] END ..max_depth=2, min_samples_split=5;, score=0.640 total time=   0.0s\n",
      "[CV 3/5] END ..max_depth=2, min_samples_split=5;, score=0.645 total time=   0.0s\n",
      "[CV 4/5] END ..max_depth=2, min_samples_split=5;, score=0.663 total time=   0.0s\n",
      "[CV 5/5] END ..max_depth=2, min_samples_split=5;, score=0.642 total time=   0.0s\n",
      "[CV 1/5] END .max_depth=2, min_samples_split=10;, score=0.633 total time=   0.0s\n",
      "[CV 2/5] END .max_depth=2, min_samples_split=10;, score=0.640 total time=   0.0s\n",
      "[CV 3/5] END .max_depth=2, min_samples_split=10;, score=0.645 total time=   0.0s\n",
      "[CV 4/5] END .max_depth=2, min_samples_split=10;, score=0.663 total time=   0.0s\n",
      "[CV 5/5] END .max_depth=2, min_samples_split=10;, score=0.642 total time=   0.0s\n",
      "[CV 1/5] END .max_depth=2, min_samples_split=15;, score=0.633 total time=   0.0s\n",
      "[CV 2/5] END .max_depth=2, min_samples_split=15;, score=0.640 total time=   0.0s\n",
      "[CV 3/5] END .max_depth=2, min_samples_split=15;, score=0.645 total time=   0.0s\n",
      "[CV 4/5] END .max_depth=2, min_samples_split=15;, score=0.663 total time=   0.0s\n",
      "[CV 5/5] END .max_depth=2, min_samples_split=15;, score=0.642 total time=   0.0s\n",
      "[CV 1/5] END .max_depth=2, min_samples_split=20;, score=0.633 total time=   0.0s\n",
      "[CV 2/5] END .max_depth=2, min_samples_split=20;, score=0.640 total time=   0.0s\n",
      "[CV 3/5] END .max_depth=2, min_samples_split=20;, score=0.645 total time=   0.0s\n",
      "[CV 4/5] END .max_depth=2, min_samples_split=20;, score=0.663 total time=   0.0s\n",
      "[CV 5/5] END .max_depth=2, min_samples_split=20;, score=0.642 total time=   0.0s\n",
      "[CV 1/5] END ..max_depth=4, min_samples_split=5;, score=0.864 total time=   0.0s\n",
      "[CV 2/5] END ..max_depth=4, min_samples_split=5;, score=0.865 total time=   0.0s\n",
      "[CV 3/5] END ..max_depth=4, min_samples_split=5;, score=0.868 total time=   0.0s\n",
      "[CV 4/5] END ..max_depth=4, min_samples_split=5;, score=0.856 total time=   0.0s\n",
      "[CV 5/5] END ..max_depth=4, min_samples_split=5;, score=0.858 total time=   0.0s\n",
      "[CV 1/5] END .max_depth=4, min_samples_split=10;, score=0.864 total time=   0.0s\n",
      "[CV 2/5] END .max_depth=4, min_samples_split=10;, score=0.865 total time=   0.0s\n",
      "[CV 3/5] END .max_depth=4, min_samples_split=10;, score=0.868 total time=   0.0s\n",
      "[CV 4/5] END .max_depth=4, min_samples_split=10;, score=0.856 total time=   0.0s\n",
      "[CV 5/5] END .max_depth=4, min_samples_split=10;, score=0.858 total time=   0.0s\n",
      "[CV 1/5] END .max_depth=4, min_samples_split=15;, score=0.864 total time=   0.0s\n",
      "[CV 2/5] END .max_depth=4, min_samples_split=15;, score=0.865 total time=   0.0s\n",
      "[CV 3/5] END .max_depth=4, min_samples_split=15;, score=0.868 total time=   0.0s\n",
      "[CV 4/5] END .max_depth=4, min_samples_split=15;, score=0.856 total time=   0.0s\n",
      "[CV 5/5] END .max_depth=4, min_samples_split=15;, score=0.858 total time=   0.0s\n",
      "[CV 1/5] END .max_depth=4, min_samples_split=20;, score=0.864 total time=   0.0s\n",
      "[CV 2/5] END .max_depth=4, min_samples_split=20;, score=0.866 total time=   0.0s\n",
      "[CV 3/5] END .max_depth=4, min_samples_split=20;, score=0.868 total time=   0.0s\n",
      "[CV 4/5] END .max_depth=4, min_samples_split=20;, score=0.859 total time=   0.0s\n",
      "[CV 5/5] END .max_depth=4, min_samples_split=20;, score=0.858 total time=   0.0s\n",
      "[CV 1/5] END ..max_depth=6, min_samples_split=5;, score=0.885 total time=   0.0s\n",
      "[CV 2/5] END ..max_depth=6, min_samples_split=5;, score=0.878 total time=   0.0s\n",
      "[CV 3/5] END ..max_depth=6, min_samples_split=5;, score=0.889 total time=   0.0s\n",
      "[CV 4/5] END ..max_depth=6, min_samples_split=5;, score=0.879 total time=   0.0s\n",
      "[CV 5/5] END ..max_depth=6, min_samples_split=5;, score=0.874 total time=   0.0s\n",
      "[CV 1/5] END .max_depth=6, min_samples_split=10;, score=0.885 total time=   0.0s\n",
      "[CV 2/5] END .max_depth=6, min_samples_split=10;, score=0.878 total time=   0.0s\n",
      "[CV 3/5] END .max_depth=6, min_samples_split=10;, score=0.889 total time=   0.0s\n",
      "[CV 4/5] END .max_depth=6, min_samples_split=10;, score=0.880 total time=   0.0s\n",
      "[CV 5/5] END .max_depth=6, min_samples_split=10;, score=0.874 total time=   0.0s\n",
      "[CV 1/5] END .max_depth=6, min_samples_split=15;, score=0.885 total time=   0.0s\n",
      "[CV 2/5] END .max_depth=6, min_samples_split=15;, score=0.878 total time=   0.0s\n",
      "[CV 3/5] END .max_depth=6, min_samples_split=15;, score=0.888 total time=   0.0s\n",
      "[CV 4/5] END .max_depth=6, min_samples_split=15;, score=0.880 total time=   0.0s\n",
      "[CV 5/5] END .max_depth=6, min_samples_split=15;, score=0.875 total time=   0.0s\n",
      "[CV 1/5] END .max_depth=6, min_samples_split=20;, score=0.888 total time=   0.0s\n",
      "[CV 2/5] END .max_depth=6, min_samples_split=20;, score=0.880 total time=   0.0s\n",
      "[CV 3/5] END .max_depth=6, min_samples_split=20;, score=0.888 total time=   0.0s\n",
      "[CV 4/5] END .max_depth=6, min_samples_split=20;, score=0.883 total time=   0.0s\n",
      "[CV 5/5] END .max_depth=6, min_samples_split=20;, score=0.875 total time=   0.0s\n",
      "[CV 1/5] END ..max_depth=8, min_samples_split=5;, score=0.884 total time=   0.0s\n",
      "[CV 2/5] END ..max_depth=8, min_samples_split=5;, score=0.860 total time=   0.0s\n",
      "[CV 3/5] END ..max_depth=8, min_samples_split=5;, score=0.890 total time=   0.0s\n",
      "[CV 4/5] END ..max_depth=8, min_samples_split=5;, score=0.879 total time=   0.0s\n",
      "[CV 5/5] END ..max_depth=8, min_samples_split=5;, score=0.868 total time=   0.0s\n",
      "[CV 1/5] END .max_depth=8, min_samples_split=10;, score=0.885 total time=   0.0s\n",
      "[CV 2/5] END .max_depth=8, min_samples_split=10;, score=0.860 total time=   0.0s\n",
      "[CV 3/5] END .max_depth=8, min_samples_split=10;, score=0.889 total time=   0.0s\n",
      "[CV 4/5] END .max_depth=8, min_samples_split=10;, score=0.879 total time=   0.0s\n",
      "[CV 5/5] END .max_depth=8, min_samples_split=10;, score=0.868 total time=   0.0s\n",
      "[CV 1/5] END .max_depth=8, min_samples_split=15;, score=0.885 total time=   0.0s\n",
      "[CV 2/5] END .max_depth=8, min_samples_split=15;, score=0.863 total time=   0.0s\n",
      "[CV 3/5] END .max_depth=8, min_samples_split=15;, score=0.887 total time=   0.0s\n",
      "[CV 4/5] END .max_depth=8, min_samples_split=15;, score=0.879 total time=   0.0s\n",
      "[CV 5/5] END .max_depth=8, min_samples_split=15;, score=0.868 total time=   0.0s\n",
      "[CV 1/5] END .max_depth=8, min_samples_split=20;, score=0.887 total time=   0.0s\n",
      "[CV 2/5] END .max_depth=8, min_samples_split=20;, score=0.865 total time=   0.0s\n",
      "[CV 3/5] END .max_depth=8, min_samples_split=20;, score=0.888 total time=   0.0s\n",
      "[CV 4/5] END .max_depth=8, min_samples_split=20;, score=0.883 total time=   0.0s\n",
      "[CV 5/5] END .max_depth=8, min_samples_split=20;, score=0.869 total time=   0.0s\n",
      "[CV 1/5] END .max_depth=10, min_samples_split=5;, score=0.883 total time=   0.0s\n",
      "[CV 2/5] END .max_depth=10, min_samples_split=5;, score=0.867 total time=   0.0s\n",
      "[CV 3/5] END .max_depth=10, min_samples_split=5;, score=0.888 total time=   0.0s\n",
      "[CV 4/5] END .max_depth=10, min_samples_split=5;, score=0.885 total time=   0.0s\n",
      "[CV 5/5] END .max_depth=10, min_samples_split=5;, score=0.860 total time=   0.0s\n",
      "[CV 1/5] END max_depth=10, min_samples_split=10;, score=0.884 total time=   0.0s\n",
      "[CV 2/5] END max_depth=10, min_samples_split=10;, score=0.867 total time=   0.0s\n",
      "[CV 3/5] END max_depth=10, min_samples_split=10;, score=0.884 total time=   0.0s\n",
      "[CV 4/5] END max_depth=10, min_samples_split=10;, score=0.885 total time=   0.0s\n",
      "[CV 5/5] END max_depth=10, min_samples_split=10;, score=0.862 total time=   0.0s\n",
      "[CV 1/5] END max_depth=10, min_samples_split=15;, score=0.883 total time=   0.0s\n",
      "[CV 2/5] END max_depth=10, min_samples_split=15;, score=0.869 total time=   0.0s\n",
      "[CV 3/5] END max_depth=10, min_samples_split=15;, score=0.880 total time=   0.0s\n",
      "[CV 4/5] END max_depth=10, min_samples_split=15;, score=0.885 total time=   0.0s\n",
      "[CV 5/5] END max_depth=10, min_samples_split=15;, score=0.864 total time=   0.0s\n",
      "[CV 1/5] END max_depth=10, min_samples_split=20;, score=0.888 total time=   0.0s\n",
      "[CV 2/5] END max_depth=10, min_samples_split=20;, score=0.871 total time=   0.0s\n",
      "[CV 3/5] END max_depth=10, min_samples_split=20;, score=0.889 total time=   0.0s\n",
      "[CV 4/5] END max_depth=10, min_samples_split=20;, score=0.889 total time=   0.0s\n",
      "[CV 5/5] END max_depth=10, min_samples_split=20;, score=0.864 total time=   0.0s\n"
     ]
    },
    {
     "data": {
      "text/plain": [
       "GridSearchCV(cv=5, estimator=DecisionTreeClassifier(random_state=42),\n",
       "             param_grid={'max_depth': [2, 4, 6, 8, 10],\n",
       "                         'min_samples_split': [5, 10, 15, 20]},\n",
       "             verbose=3)"
      ]
     },
     "execution_count": 26,
     "metadata": {},
     "output_type": "execute_result"
    }
   ],
   "source": [
    "tunner.fit(X_train, y_train)"
   ]
  },
  {
   "cell_type": "code",
   "execution_count": 27,
   "id": "2387521f",
   "metadata": {},
   "outputs": [
    {
     "data": {
      "text/plain": [
       "{'max_depth': 6, 'min_samples_split': 20}"
      ]
     },
     "execution_count": 27,
     "metadata": {},
     "output_type": "execute_result"
    }
   ],
   "source": [
    "tunner.best_params_"
   ]
  },
  {
   "cell_type": "code",
   "execution_count": 28,
   "id": "65073f5d",
   "metadata": {},
   "outputs": [],
   "source": [
    "best_model = tunner.best_estimator_"
   ]
  },
  {
   "cell_type": "code",
   "execution_count": 29,
   "id": "212542ee",
   "metadata": {},
   "outputs": [
    {
     "data": {
      "text/plain": [
       "0.8775743707093822"
      ]
     },
     "execution_count": 29,
     "metadata": {},
     "output_type": "execute_result"
    }
   ],
   "source": [
    "best_model.score(X_test, y_test)"
   ]
  },
  {
   "cell_type": "code",
   "execution_count": 30,
   "id": "8d558abe",
   "metadata": {},
   "outputs": [
    {
     "data": {
      "text/plain": [
       "0.8918558077436582"
      ]
     },
     "execution_count": 30,
     "metadata": {},
     "output_type": "execute_result"
    }
   ],
   "source": [
    "best_model.score(X_train, y_train)"
   ]
  },
  {
   "cell_type": "code",
   "execution_count": 31,
   "id": "74993439",
   "metadata": {},
   "outputs": [],
   "source": [
    "pred_tune = best_model.predict(X_test)"
   ]
  },
  {
   "cell_type": "code",
   "execution_count": 32,
   "id": "c96f77e0",
   "metadata": {},
   "outputs": [
    {
     "name": "stdout",
     "output_type": "stream",
     "text": [
      "Accuracy: 0.878\n"
     ]
    },
    {
     "data": {
      "image/png": "[encoded data removed]",
      "text/plain": [
       "<Figure size 432x288 with 2 Axes>"
      ]
     },
     "metadata": {
      "needs_background": "light"
     },
     "output_type": "display_data"
    }
   ],
   "source": [
    "from sklearn.metrics import confusion_matrix, ConfusionMatrixDisplay\n",
    "cm_tr_tune = confusion_matrix(y_test, pred_tune, labels=classifier.classes_) # imported sklearn function\n",
    "disp_tr_tune = ConfusionMatrixDisplay(confusion_matrix=cm_tr_tune, display_labels=classifier.classes_) # imported sklearn function\n",
    "disp_tr_tune.plot()\n",
    "\n",
    "print('Accuracy: %.3f' % best_model.score(X_test, y_test))"
   ]
  },
  {
   "cell_type": "code",
   "execution_count": 33,
   "id": "323ca63d",
   "metadata": {},
   "outputs": [
    {
     "data": {
      "text/plain": [
       "['M1_Rajesh_Decision_Tree.sav']"
      ]
     },
     "execution_count": 33,
     "metadata": {},
     "output_type": "execute_result"
    }
   ],
   "source": [
    "# Save the model\n",
    "import joblib\n",
    "filename = 'M1_Rajesh_Decision_Tree.sav'\n",
    "joblib.dump(best_model, filename)"
   ]
  },
  {
   "cell_type": "code",
   "execution_count": null,
   "id": "8b33b045",
   "metadata": {},
   "outputs": [],
   "source": []
  },
  {
   "cell_type": "code",
   "execution_count": null,
   "id": "26d83add",
   "metadata": {},
   "outputs": [],
   "source": []
  }
 ],
 "metadata": {
  "kernelspec": {
   "display_name": "Python 3",
   "language": "python",
   "name": "python3"
  },
  "language_info": {
   "codemirror_mode": {
    "name": "ipython",
    "version": 3
   },
   "file_extension": ".py",
   "mimetype": "text/x-python",
   "name": "python",
   "nbconvert_exporter": "python",
   "pygments_lexer": "ipython3",
   "version": "3.6.13"
  }
 },
 "nbformat": 4,
 "nbformat_minor": 5
}
